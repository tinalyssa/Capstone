{
 "cells": [
  {
   "cell_type": "markdown",
   "metadata": {},
   "source": [
    "# Traffic Incidents within Metro Manila\n",
    "\n",
    "## Background\n",
    "\n",
    "The traffic situation in Metro Manila has long been a source of stress among daily commuters. On top of the big volume of vehicles—private and public alike—congesting roads and highways, traffic is further worsened by unprecedented traffic incidents that seem to occur almost every day.\n",
    "\n",
    "In this study, I hope to predict where traffic incidents are likely to occur within Metro Manila at different times of the day using a [dataset](https://www.kaggle.com/esparko/mmda-traffic-incident-data) from Kaggle  detailing exact date, time, and location of traffic incidents that had occurred from late August 2018 to mid-January 2019. The data was sourced from the MMDA (Metro Manila Development Authority) Twitter page, scraped and parsed through the free tier access of Twitter API. It is therefore limited to information exclusively shared by MMDA through its official page, which does not represent all incidents as posted tweets are limited to roads under the jurisdiction of MMDA. These roads are mostly main thoroughfares and national highways such as EDSA, C5, etc. I plan to supplement this dataset with data from late January to May 2019 by re-accessing Twitter API and scraping latest data.\n",
    "\n",
    "As a Filipino commuter, this topic is close to my heart. My goal is to start a discourse on traffic incidents that are seemingly becoming a part of the daily grind of commuters all over the Metro, in hopes of finding solutions that may prevent future incidents from happening and to help ease congested Metro Manila traffic.\n"
   ]
  }
 ],
 "metadata": {
  "kernelspec": {
   "display_name": "Python 3",
   "language": "python",
   "name": "python3"
  },
  "language_info": {
   "codemirror_mode": {
    "name": "ipython",
    "version": 3
   },
   "file_extension": ".py",
   "mimetype": "text/x-python",
   "name": "python",
   "nbconvert_exporter": "python",
   "pygments_lexer": "ipython3",
   "version": "3.7.3"
  }
 },
 "nbformat": 4,
 "nbformat_minor": 2
}
